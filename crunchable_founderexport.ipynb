{
 "cells": [
  {
   "cell_type": "markdown",
   "metadata": {},
   "source": [
    "Import the relevant packages"
   ]
  },
  {
   "cell_type": "code",
   "execution_count": null,
   "metadata": {},
   "outputs": [],
   "source": [
    "import pycrunchbase, time, csv, simplejson as json, os, numpy as np,requests, json, re, urllib2\n",
    "from urllib2 import HTTPError"
   ]
  },
  {
   "cell_type": "markdown",
   "metadata": {},
   "source": [
    "Add the Crunchbase API key"
   ]
  },
  {
   "cell_type": "code",
   "execution_count": null,
   "metadata": {},
   "outputs": [],
   "source": [
    "cb = pycrunchbase.CrunchBase('')"
   ]
  },
  {
   "cell_type": "markdown",
   "metadata": {},
   "source": [
    "Read the company names from the Crunchbase daily csv export into a list"
   ]
  },
  {
   "cell_type": "code",
   "execution_count": null,
   "metadata": {},
   "outputs": [],
   "source": [
    "names = []\n",
    "f = open('company_names.csv', 'rU')\n",
    "csv_f = csv.reader(f, dialect=csv.excel_tab)\n",
    "for row in csv_f:\n",
    "    names.append(row[0])"
   ]
  },
  {
   "cell_type": "markdown",
   "metadata": {},
   "source": [
    "Create a dictionary with the company name and founder names of the company, separate csv with company name, founders, and the founder's degrees"
   ]
  },
  {
   "cell_type": "code",
   "execution_count": null,
   "metadata": {},
   "outputs": [],
   "source": [
    "founders_db = {}\n",
    "education = {}\n",
    "founders = {}\n",
    "n =[]\n",
    "#API allows 2500 requests per day\n",
    "for i in range(1,2500):\n",
    "    try:\n",
    "        founders_db[names[i]]=cb.organization(names[i]).founders\n",
    "        r=len(founders_db[names[i]])\n",
    "        education[names[i]]={}\n",
    "        founders[names[i]]=[]\n",
    "        for j in range(r):\n",
    "            try:\n",
    "                founders[names[i]].append(founders_db[names[i]][j])\n",
    "                n=cb.person(founders[names[i]][j].permalink)\n",
    "                education[names[i]][j]=n.degrees[0]\n",
    "            except Exception as error:\n",
    "                print error\n",
    "                continue\n",
    "#need to pause loop to avoid API errors \n",
    "#Can be shortened, but I found this minimizes number of too many requests errors\n",
    "        time.sleep(5)\n",
    "    except Exception as error:\n",
    "        print error\n",
    "        continue"
   ]
  },
  {
   "cell_type": "markdown",
   "metadata": {},
   "source": [
    "Flatten the dictionaries and export them to csv"
   ]
  },
  {
   "cell_type": "code",
   "execution_count": null,
   "metadata": {},
   "outputs": [],
   "source": [
    "test = open(\"education_dict.csv\", 'wb')\n",
    "wr = csv.writer(test, dialect='excel')\n",
    "for key, value in education.items():\n",
    "    wr.writerow([key, value])\n",
    "test.close()\n",
    "\n",
    "import csv, os\n",
    "test = open(\"founders.csv\", 'wb')\n",
    "wr = csv.writer(test, dialect='excel')\n",
    "for key, value in founders.items():\n",
    "    wr.writerow([key, value])\n",
    "test.close()"
   ]
  }
 ],
 "metadata": {
  "kernelspec": {
   "display_name": "Python 3",
   "language": "python",
   "name": "python3"
  },
  "language_info": {
   "codemirror_mode": {
    "name": "ipython",
    "version": 3
   },
   "file_extension": ".py",
   "mimetype": "text/x-python",
   "name": "python",
   "nbconvert_exporter": "python",
   "pygments_lexer": "ipython3",
   "version": "3.7.4"
  }
 },
 "nbformat": 4,
 "nbformat_minor": 4
}
